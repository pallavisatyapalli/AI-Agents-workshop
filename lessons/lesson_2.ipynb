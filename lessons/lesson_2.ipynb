{
 "cells": [
  {
   "cell_type": "code",
   "execution_count": 1,
   "id": "b503004f",
   "metadata": {},
   "outputs": [],
   "source": [
    "''' Instead of a todo list, let's try to put this into a database.'''\n",
    "\n",
    "# import sqlite3\n",
    "import sqlite3\n",
    "\n",
    "# create / connect to the db\n",
    "conn = sqlite3.connect(\"todos.db\")\n",
    "\n",
    "# create an instance for connection through ORM\n",
    "cursor = conn.cursor()\n",
    "\n",
    "# create a table if it doesn't exist\n",
    "\n",
    "cursor.execute(\"\"\"\n",
    "        CREATE TABLE IF NOT EXISTS tasks (\n",
    "                id INTEGER PRIMARY KEY,\n",
    "                name VARCHAR(100) NOT NULL,\n",
    "                description VARCHAR NOT NULL,\n",
    "                status BOOLEAN\n",
    "            );    \n",
    "\"\"\")\n",
    "\n",
    "conn.commit() # saves changes to database\n",
    "conn.close() # closes connection\n"
   ]
  },
  {
   "cell_type": "code",
   "execution_count": 2,
   "id": "cde0e949",
   "metadata": {},
   "outputs": [],
   "source": [
    "# connect to the db\n",
    "conn = sqlite3.connect(\"todos.db\")\n",
    "\n",
    "# create an instance for connection through ORM\n",
    "cursor = conn.cursor()"
   ]
  },
  {
   "cell_type": "code",
   "execution_count": 3,
   "id": "c0624a0c",
   "metadata": {},
   "outputs": [],
   "source": [
    "# let's try to insert a task using tuple (CREATE)\n",
    "\n",
    "task_1 = (1, \"Drink Milk\", \"Drink a glass of milk at 7 AM\", False)\n",
    "task_2 = (2, \"Send Email to Sarah\", \"Send email to sarah about meetings\", False)\n",
    "\n",
    "cursor.execute(\"\"\"\n",
    "        INSERT INTO tasks (id, name, description, status)\n",
    "        VALUES (?, ?, ?, ?);               \n",
    "\"\"\", task_1)\n",
    "\n",
    "cursor.execute(\"\"\"\n",
    "        INSERT INTO tasks (id, name, description, status)\n",
    "        VALUES (?, ?, ?, ?);               \n",
    "\"\"\", task_2)\n",
    "\n",
    "\n",
    "conn.commit()"
   ]
  },
  {
   "cell_type": "code",
   "execution_count": 4,
   "id": "f2c55c4f",
   "metadata": {},
   "outputs": [
    {
     "name": "stdout",
     "output_type": "stream",
     "text": [
      "(1, 'Drink Milk', 'Drink a glass of milk at 7 AM', 0)\n",
      "(2, 'Send Email to Sarah', 'Send email to sarah about meetings', 0)\n"
     ]
    }
   ],
   "source": [
    "# Let's check if the task is added or not (READ)\n",
    "\n",
    "# Query to print all records in tasks table\n",
    "cursor.execute(\"\"\"\n",
    "    SELECT * FROM tasks;               \n",
    "\"\"\")\n",
    "\n",
    "rows = cursor.fetchall()\n",
    "for row in rows:\n",
    "    print(row)\n",
    "\n",
    "conn.commit()"
   ]
  },
  {
   "cell_type": "code",
   "execution_count": 5,
   "id": "78a23e81",
   "metadata": {},
   "outputs": [],
   "source": [
    "# Let's try to update the task\n",
    "cursor.execute(\"\"\"\n",
    "      UPDATE tasks\n",
    "      SET status = true\n",
    "      WHERE id=1;             \n",
    "\"\"\")\n",
    "\n",
    "conn.commit()"
   ]
  },
  {
   "cell_type": "code",
   "execution_count": 6,
   "id": "3fa5c90e",
   "metadata": {},
   "outputs": [
    {
     "name": "stdout",
     "output_type": "stream",
     "text": [
      "(1, 'Drink Milk', 'Drink a glass of milk at 7 AM', 1)\n",
      "(2, 'Send Email to Sarah', 'Send email to sarah about meetings', 0)\n"
     ]
    }
   ],
   "source": [
    "# Let's try to print again (to see the updated changes)\n",
    "\n",
    "cursor.execute(\"\"\"\n",
    "    SELECT * FROM tasks;               \n",
    "\"\"\")\n",
    "\n",
    "rows = cursor.fetchall()\n",
    "for row in rows:\n",
    "    print(row)\n",
    "\n",
    "conn.commit()"
   ]
  },
  {
   "cell_type": "code",
   "execution_count": 7,
   "id": "217a7117",
   "metadata": {},
   "outputs": [
    {
     "name": "stdout",
     "output_type": "stream",
     "text": [
      "(1, 'Drink Milk', 'Drink a glass of milk at 7 AM', 1)\n"
     ]
    }
   ],
   "source": [
    "# Let's try to delete that task from tasks table\n",
    "\n",
    "cursor.execute(\"\"\"\n",
    "    DELETE FROM tasks WHERE id IN (2);\n",
    "\"\"\")\n",
    "\n",
    "cursor.execute(\"\"\"\n",
    "    SELECT * FROM tasks;\n",
    "\"\"\")\n",
    "records = cursor.fetchall()\n",
    "\n",
    "if(len(records) == 0):\n",
    "    print(\"No tasks left!\")\n",
    "else :\n",
    "    for record in records:\n",
    "        print(record)\n",
    "\n",
    "conn.commit()"
   ]
  },
  {
   "cell_type": "code",
   "execution_count": 8,
   "id": "3bd84368",
   "metadata": {},
   "outputs": [],
   "source": [
    "# Enter many tasks at once\n",
    "tasks = [\n",
    "    (3, \"Try to catch tram by 9 AM\", \"Try to catch tram by 9 AM else you'll be late for office\", False),\n",
    "    (4, \"Reach office on 4th Floor\", \"Office is on 4th floor, be there by 11 AM\", False)\n",
    "]\n",
    "\n",
    "cursor.executemany(\"\"\"\n",
    "    INSERT INTO tasks (id, name, description, status) VALUES (?, ?, ?, ?);\n",
    "\"\"\", tasks)\n",
    "\n",
    "conn.commit()"
   ]
  },
  {
   "cell_type": "code",
   "execution_count": 9,
   "id": "f0a65fdc",
   "metadata": {},
   "outputs": [
    {
     "name": "stdout",
     "output_type": "stream",
     "text": [
      "(1, 'Drink Milk', 'Drink a glass of milk at 7 AM', 1)\n",
      "(3, 'Try to catch tram by 9 AM', \"Try to catch tram by 9 AM else you'll be late for office\", 0)\n",
      "(4, 'Reach office on 4th Floor', 'Office is on 4th floor, be there by 11 AM', 0)\n"
     ]
    }
   ],
   "source": [
    "# Query to print all records in tasks table\n",
    "cursor.execute(\"\"\"\n",
    "    SELECT * FROM tasks;               \n",
    "\"\"\")\n",
    "\n",
    "rows = cursor.fetchall()\n",
    "for row in rows:\n",
    "    print(row)\n",
    "\n",
    "conn.commit()"
   ]
  },
  {
   "cell_type": "code",
   "execution_count": 10,
   "id": "f8d1f1d3",
   "metadata": {},
   "outputs": [],
   "source": [
    "cursor.execute(\"\"\"\n",
    "    UPDATE tasks \n",
    "    SET status = true\n",
    "    WHERE id=3;               \n",
    "\"\"\")\n",
    "conn.commit()"
   ]
  },
  {
   "cell_type": "code",
   "execution_count": 11,
   "id": "f18b5e99",
   "metadata": {},
   "outputs": [
    {
     "name": "stdout",
     "output_type": "stream",
     "text": [
      "(1, 'Drink Milk', 'Drink a glass of milk at 7 AM', 1)\n",
      "(3, 'Try to catch tram by 9 AM', \"Try to catch tram by 9 AM else you'll be late for office\", 1)\n",
      "(4, 'Reach office on 4th Floor', 'Office is on 4th floor, be there by 11 AM', 0)\n"
     ]
    }
   ],
   "source": [
    "# Query to print all records in tasks table\n",
    "cursor.execute(\"\"\"\n",
    "    SELECT * FROM tasks;               \n",
    "\"\"\")\n",
    "\n",
    "rows = cursor.fetchall()\n",
    "for row in rows:\n",
    "    print(row)\n",
    "\n",
    "conn.commit()"
   ]
  },
  {
   "cell_type": "code",
   "execution_count": null,
   "id": "fd91412a",
   "metadata": {},
   "outputs": [],
   "source": []
  },
  {
   "cell_type": "code",
   "execution_count": 12,
   "id": "663785cb",
   "metadata": {},
   "outputs": [],
   "source": [
    "import sqlite3\n",
    "import json\n",
    "\n",
    "DB_NAME = \"todos.db\"\n",
    "\n",
    "# Initialize database\n",
    "def initialize_database():\n",
    "    conn = sqlite3.connect(DB_NAME)\n",
    "    cursor = conn.cursor()\n",
    "    \n",
    "    cursor.execute(\"\"\"\n",
    "        CREATE TABLE IF NOT EXISTS tasks (\n",
    "            id INTEGER PRIMARY KEY,\n",
    "            name VARCHAR NOT NULL,\n",
    "            description VARCHAR,\n",
    "            status BOOLEAN\n",
    "        );\n",
    "    \"\"\")\n",
    "    \n",
    "    conn.commit()\n",
    "    conn.close()\n",
    "\n",
    "initialize_database()"
   ]
  },
  {
   "cell_type": "code",
   "execution_count": null,
   "id": "9315dd35",
   "metadata": {},
   "outputs": [],
   "source": []
  }
 ],
 "metadata": {
  "kernelspec": {
   "display_name": "Python 3",
   "language": "python",
   "name": "python3"
  },
  "language_info": {
   "codemirror_mode": {
    "name": "ipython",
    "version": 3
   },
   "file_extension": ".py",
   "mimetype": "text/x-python",
   "name": "python",
   "nbconvert_exporter": "python",
   "pygments_lexer": "ipython3",
   "version": "3.12.1"
  }
 },
 "nbformat": 4,
 "nbformat_minor": 5
}
