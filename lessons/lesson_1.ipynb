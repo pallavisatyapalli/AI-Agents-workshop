{
 "cells": [
  {
   "cell_type": "code",
   "execution_count": 54,
   "id": "20d5b0c0",
   "metadata": {},
   "outputs": [],
   "source": [
    "# imports\n",
    "import json"
   ]
  },
  {
   "cell_type": "code",
   "execution_count": 55,
   "id": "a5920676",
   "metadata": {},
   "outputs": [
    {
     "name": "stdout",
     "output_type": "stream",
     "text": [
      "[]\n"
     ]
    }
   ],
   "source": [
    "# empty list\n",
    "\n",
    "todos_list = []\n",
    "print(todos_list)"
   ]
  },
  {
   "cell_type": "code",
   "execution_count": 56,
   "id": "c911dfc1",
   "metadata": {},
   "outputs": [],
   "source": [
    "# adding an new task into todos\n",
    "\n",
    "def add_task(task):\n",
    "    \n",
    "    if len(todos_list) == 0:\n",
    "        new_id = 1\n",
    "    else :\n",
    "        current_ids = []\n",
    "        for idx, it in enumerate(todos_list):\n",
    "            current_ids.append(todos_list[idx][\"id\"])\n",
    "        \n",
    "        new_id = max(current_ids) + 1\n",
    "            \n",
    "    new_task = {\n",
    "        \"id\" : new_id,\n",
    "        \"name\" : task[\"name\"],\n",
    "        \"description\" : task[\"description\"],\n",
    "        \"status\" : task[\"status\"]        \n",
    "    }\n",
    "    \n",
    "    todos_list.append(new_task)\n",
    "\n",
    "\n",
    "# example task\n",
    "\n",
    "task_1 = {\n",
    "    'id' : 1,\n",
    "    'name' : 'Wake up 7 AM',\n",
    "    'description' : 'Wake up tomorrow at 7 AM',\n",
    "    'status' : False\n",
    "}"
   ]
  },
  {
   "cell_type": "code",
   "execution_count": 57,
   "id": "dc661e88",
   "metadata": {},
   "outputs": [],
   "source": [
    "# add a task\n",
    "add_task(task_1)"
   ]
  },
  {
   "cell_type": "code",
   "execution_count": 58,
   "id": "f4f47cff",
   "metadata": {},
   "outputs": [
    {
     "name": "stdout",
     "output_type": "stream",
     "text": [
      "{\n",
      "    \"id\": 1,\n",
      "    \"name\": \"Wake up 7 AM\",\n",
      "    \"description\": \"Wake up tomorrow at 7 AM\",\n",
      "    \"status\": false\n",
      "}\n"
     ]
    }
   ],
   "source": [
    "for idx, it in enumerate(todos_list):\n",
    "    print(json.dumps(todos_list[idx], indent=4))"
   ]
  },
  {
   "cell_type": "code",
   "execution_count": 59,
   "id": "2fb7eb6a",
   "metadata": {},
   "outputs": [],
   "source": [
    "# Let's add few more tasks\n",
    "\n",
    "task_2 = {\n",
    "    'id' : 2,\n",
    "    'name' : 'Send an email to sarah',\n",
    "    'description' : 'Send an email to sarah regarding work hours',\n",
    "    'status' : False\n",
    "}\n",
    "\n",
    "task_3 = {\n",
    "    'id' : 3,\n",
    "    'name' : 'Catch up the tram by 9 AM',\n",
    "    'description' : 'Catch up the tram by 9 AM. Otherwise, you will be late to office',\n",
    "    'status' : False\n",
    "}\n",
    "\n",
    "task_4 = {\n",
    "    'id' : 4,\n",
    "    'name' : 'Book a nice slot at parking',\n",
    "    'description' : 'Park your car at nearest gate entry, otherwise, you will stuck in traffic',\n",
    "    'status' : False\n",
    "}\n",
    "\n",
    "add_task(task_2)\n",
    "add_task(task_3)\n",
    "add_task(task_4)"
   ]
  },
  {
   "cell_type": "code",
   "execution_count": 60,
   "id": "3a9dc116",
   "metadata": {},
   "outputs": [
    {
     "name": "stdout",
     "output_type": "stream",
     "text": [
      "{\n",
      "    \"id\": 1,\n",
      "    \"name\": \"Wake up 7 AM\",\n",
      "    \"description\": \"Wake up tomorrow at 7 AM\",\n",
      "    \"status\": false\n",
      "}\n",
      "{\n",
      "    \"id\": 2,\n",
      "    \"name\": \"Send an email to sarah\",\n",
      "    \"description\": \"Send an email to sarah regarding work hours\",\n",
      "    \"status\": false\n",
      "}\n",
      "{\n",
      "    \"id\": 3,\n",
      "    \"name\": \"Catch up the tram by 9 AM\",\n",
      "    \"description\": \"Catch up the tram by 9 AM. Otherwise, you will be late to office\",\n",
      "    \"status\": false\n",
      "}\n",
      "{\n",
      "    \"id\": 4,\n",
      "    \"name\": \"Book a nice slot at parking\",\n",
      "    \"description\": \"Park your car at nearest gate entry, otherwise, you will stuck in traffic\",\n",
      "    \"status\": false\n",
      "}\n"
     ]
    }
   ],
   "source": [
    "for idx, it in enumerate(todos_list):\n",
    "    print(json.dumps(todos_list[idx], indent=4))"
   ]
  },
  {
   "cell_type": "code",
   "execution_count": 61,
   "id": "a5e52d56",
   "metadata": {},
   "outputs": [],
   "source": [
    "# delete a task (all tasks were identified only through id)\n",
    "\n",
    "def delete_task(task_id):\n",
    "    for idx, it in enumerate(todos_list):\n",
    "        if(task_id == todos_list[idx][\"id\"]):\n",
    "            todos_list.pop(idx)\n",
    "            print(json.dumps({\"message\" : f\"Item deleted with id {task_id}\"}, indent=1))\n",
    "            return\n",
    "    \n",
    "    print(f\"No task found with task id {task_id}\")"
   ]
  },
  {
   "cell_type": "code",
   "execution_count": 62,
   "id": "09c2f3b5",
   "metadata": {},
   "outputs": [
    {
     "name": "stdout",
     "output_type": "stream",
     "text": [
      "{\n",
      " \"message\": \"Item deleted with id 2\"\n",
      "}\n"
     ]
    }
   ],
   "source": [
    "# Let's try to remove the task 2\n",
    "delete_task(2)"
   ]
  },
  {
   "cell_type": "code",
   "execution_count": 63,
   "id": "9bc55d54",
   "metadata": {},
   "outputs": [
    {
     "name": "stdout",
     "output_type": "stream",
     "text": [
      "{\n",
      "    \"id\": 1,\n",
      "    \"name\": \"Wake up 7 AM\",\n",
      "    \"description\": \"Wake up tomorrow at 7 AM\",\n",
      "    \"status\": false\n",
      "}\n",
      "{\n",
      "    \"id\": 3,\n",
      "    \"name\": \"Catch up the tram by 9 AM\",\n",
      "    \"description\": \"Catch up the tram by 9 AM. Otherwise, you will be late to office\",\n",
      "    \"status\": false\n",
      "}\n",
      "{\n",
      "    \"id\": 4,\n",
      "    \"name\": \"Book a nice slot at parking\",\n",
      "    \"description\": \"Park your car at nearest gate entry, otherwise, you will stuck in traffic\",\n",
      "    \"status\": false\n",
      "}\n"
     ]
    }
   ],
   "source": [
    "for idx, it in enumerate(todos_list):\n",
    "    print(json.dumps(todos_list[idx], indent=4))"
   ]
  },
  {
   "cell_type": "code",
   "execution_count": null,
   "id": "6c7c09a5",
   "metadata": {},
   "outputs": [],
   "source": [
    "# Let's try to update the tasks with new data.\n",
    "# Let's say we need to update the item 4\n",
    "\n",
    "update_data_item_4 = {\n",
    "    \"id\" : 4,\n",
    "    \"name\" : \"Reach 4th floor in Office in time\",\n",
    "    \"description\" : \"It's okay, try to reach 4th floor office by 10 AM\",\n",
    "    \"status\" : \"false\"\n",
    "}\n",
    "\n",
    "def update_task(updated_item):\n",
    "    for idx, it in enumerate(todos_list):\n",
    "        if(updated_item[\"id\"] == todos_list[idx][\"id\"]):\n",
    "            todos_list[idx][\"name\"] = updated_item[\"name\"]\n",
    "            todos_list[idx][\"description\"] = updated_item[\"description\"]\n",
    "            todos_list[idx][\"status\"] = updated_item[\"status\"]\n",
    "            print(json.dumps({\"message\" : f\"item updated with task id {updated_item[\"id\"]}\"}, indent=1))\n",
    "            return\n",
    "    \n",
    "    print(json.dumps({\"message\" : f\"No Item to update with item id {updated_item[\"id\"]}\"}, indent=1))\n"
   ]
  },
  {
   "cell_type": "code",
   "execution_count": 68,
   "id": "591701f8",
   "metadata": {},
   "outputs": [
    {
     "name": "stdout",
     "output_type": "stream",
     "text": [
      "{\n",
      " \"message\": \"item updated with task id 4\"\n",
      "}\n"
     ]
    }
   ],
   "source": [
    "update_task(update_data_item_4)"
   ]
  },
  {
   "cell_type": "code",
   "execution_count": 69,
   "id": "46960c64",
   "metadata": {},
   "outputs": [
    {
     "name": "stdout",
     "output_type": "stream",
     "text": [
      "{\n",
      "    \"id\": 1,\n",
      "    \"name\": \"Wake up 7 AM\",\n",
      "    \"description\": \"Wake up tomorrow at 7 AM\",\n",
      "    \"status\": false\n",
      "}\n",
      "{\n",
      "    \"id\": 3,\n",
      "    \"name\": \"Catch up the tram by 9 AM\",\n",
      "    \"description\": \"Catch up the tram by 9 AM. Otherwise, you will be late to office\",\n",
      "    \"status\": false\n",
      "}\n",
      "{\n",
      "    \"id\": 4,\n",
      "    \"name\": \"Reach 4th floor in Office in time\",\n",
      "    \"description\": \"It's okay, try to reach 4th floor office by 10 AM\",\n",
      "    \"status\": \"false\"\n",
      "}\n"
     ]
    }
   ],
   "source": [
    "for idx, it in enumerate(todos_list):\n",
    "    print(json.dumps(todos_list[idx], indent=4))"
   ]
  },
  {
   "cell_type": "code",
   "execution_count": 70,
   "id": "a927ec35",
   "metadata": {},
   "outputs": [],
   "source": [
    "# Let's try to display task as user required\n",
    "\n",
    "def display_task(task_id):\n",
    "    for idx, it in enumerate(todos_list):\n",
    "        if(task_id == todos_list[idx][\"id\"]):\n",
    "            print(json.dumps(todos_list[idx], indent=4))\n",
    "            return\n",
    "    \n",
    "    print(json.dumps({\"message\" : f\"Task with id {task_id} not exists\"}, indent=1))"
   ]
  },
  {
   "cell_type": "code",
   "execution_count": 71,
   "id": "d38fb771",
   "metadata": {},
   "outputs": [
    {
     "name": "stdout",
     "output_type": "stream",
     "text": [
      "{\n",
      "    \"id\": 3,\n",
      "    \"name\": \"Catch up the tram by 9 AM\",\n",
      "    \"description\": \"Catch up the tram by 9 AM. Otherwise, you will be late to office\",\n",
      "    \"status\": false\n",
      "}\n"
     ]
    }
   ],
   "source": [
    "display_task(3)"
   ]
  },
  {
   "cell_type": "code",
   "execution_count": 72,
   "id": "74328805",
   "metadata": {},
   "outputs": [
    {
     "name": "stdout",
     "output_type": "stream",
     "text": [
      "{\n",
      " \"message\": \"Task with id 5 not exists\"\n",
      "}\n"
     ]
    }
   ],
   "source": [
    "# edge case check\n",
    "\n",
    "display_task(5)"
   ]
  },
  {
   "cell_type": "code",
   "execution_count": null,
   "id": "d48a1ebc",
   "metadata": {},
   "outputs": [],
   "source": []
  }
 ],
 "metadata": {
  "kernelspec": {
   "display_name": "Python 3",
   "language": "python",
   "name": "python3"
  },
  "language_info": {
   "codemirror_mode": {
    "name": "ipython",
    "version": 3
   },
   "file_extension": ".py",
   "mimetype": "text/x-python",
   "name": "python",
   "nbconvert_exporter": "python",
   "pygments_lexer": "ipython3",
   "version": "3.12.1"
  }
 },
 "nbformat": 4,
 "nbformat_minor": 5
}
